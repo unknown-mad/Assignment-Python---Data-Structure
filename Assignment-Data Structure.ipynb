{
 "cells": [
  {
   "cell_type": "markdown",
   "id": "4a5f0720-5c80-412c-ac51-71f92fdc9b3c",
   "metadata": {},
   "source": [
    "<!-- Assigment-Data Structure -->"
   ]
  },
  {
   "cell_type": "markdown",
   "id": "d013bf38-0751-4c76-b155-16e35cf41887",
   "metadata": {},
   "source": [
    "# Theroy Question"
   ]
  },
  {
   "cell_type": "code",
   "execution_count": null,
   "id": "75930966-c35a-47e6-90aa-1444b7ee11ec",
   "metadata": {},
   "outputs": [],
   "source": [
    "# 1. What are data structures, and why are they important.\n",
    "# ANS A data structure is a way of organizing, storing, and managing data so that it can be used efficiently. Data structures define how \n",
    "# data is arranged in memory and how operations such as access, insertion, deletion, and searching can be performed efficiently.\n",
    "# Data Structures Importance\n",
    "# a.Efficient Data Management – They help organize and store data efficiently, making data retrieval and modification faster.\n",
    "# b.Scalability – Proper data structures ensure that applications handle large datasets efficiently.\n",
    "# c.Memory Utilization – They help in optimizing memory usage by storing data compactly.\n",
    "# d.Solving Complex Problems – Many computational problems require advanced data structures \n",
    "# e.Software Development – Used in databases, OS, AI, networking, and more, data structures form the foundation of modern computing.\n",
    "# f.Optimized Performance – Choosing the right data structure improves the performance of algorithms "
   ]
  },
  {
   "cell_type": "code",
   "execution_count": null,
   "id": "a08b8f71-3f49-44ba-8f5e-b0b6751a49a8",
   "metadata": {},
   "outputs": [],
   "source": [
    "# 2. Explain the difference between mutable and immutable data types with examples.\n",
    "# ANS\n",
    "#   1.Mutuable data can be modified after creation but immutable datatypes not modified\n",
    "#   2.Memory utilization of mutable data types is less than immutable data types\n",
    "#   3.Example:-Mutable --list, dict,set etc\n",
    "#              immutable -- tuple,string,int etc "
   ]
  },
  {
   "cell_type": "code",
   "execution_count": null,
   "id": "fe324150-58d8-4b11-ad68-c4b2316bb89c",
   "metadata": {},
   "outputs": [],
   "source": [
    "# 3.What are the main differences between lists and tuples in Python.\n",
    "# ANS The main differences between lists and tuples in Python is Mutability list can mutuable but tuples can't after creation\n",
    "  "
   ]
  },
  {
   "cell_type": "code",
   "execution_count": null,
   "id": "c8ca9449-0254-408f-932c-e67cbb924806",
   "metadata": {},
   "outputs": [],
   "source": [
    "# 4. Describe how dictionaries store data.\n",
    "# ANS\n",
    "#   A dictionary in Python is a hash-based data structure that stores key-value pairs.It provides fast lookups, insertions, and deletions due to its internal implementation using\n",
    "#   a hash table.\n",
    "#   Example: dic={\"Name\":\"prakash\", \"city\":\"Gurugram\"}"
   ]
  },
  {
   "cell_type": "code",
   "execution_count": null,
   "id": "ebf7fd8d-8ae4-4950-94ab-09e935c22cd5",
   "metadata": {},
   "outputs": [],
   "source": [
    "# 5.Why might you use a set instead of a list in Python3\n",
    "# ANS\n",
    "#    A set and a list are both used to store collections of elements, but a set is more efficient for certain use cases\n",
    "#    1.Uniqueness of Elements- set consider only unique element but list consider duplicat value\n",
    "#    2.Faster Lookups - set uses a hash table for lookups while List requires O(n) linear search for search"
   ]
  },
  {
   "cell_type": "code",
   "execution_count": null,
   "id": "9fa98a37-8c94-4826-89ba-e9a9f1b31a84",
   "metadata": {},
   "outputs": [],
   "source": [
    "# 6.What is a string in Python, and how is it different from a list3\n",
    "# ANS\n",
    "#    String in Python is a sequence of characters enclosed in single ('), double (\"), or triple (''' \"\"\") quotes. It is immutable, cannot be \n",
    "#    changed after creation.\n",
    "#     1.String is immutable but list is muatable is main differnce between string and list\n",
    "#     2. String is more memory efficiant than list\n",
    "    "
   ]
  },
  {
   "cell_type": "code",
   "execution_count": null,
   "id": "94191ef0-540a-4854-8e49-0985f0385351",
   "metadata": {},
   "outputs": [],
   "source": [
    "# 7.How do tuples ensure data integrity in Python.\n",
    "# ANS \n",
    "#   A tuple in Python is an immutable ordered sequence of elements. Its immutability ensures data integrity by preventing accidental modifications. \n",
    "#   Here’s how tuples help maintain data consistency:"
   ]
  },
  {
   "cell_type": "code",
   "execution_count": null,
   "id": "465594fb-c753-4f3c-bd9b-830b9c2c90ce",
   "metadata": {},
   "outputs": [],
   "source": [
    "# 8.What is a hash table, and how does it relate to dictionaries in Python.\n",
    "# ANS \n",
    "#    A hash table is a data structure that stores key-value pairs and enables fast lookups, insertions, and deletions.\n",
    "#    It works by using a hash function to convert keys into unique numerical values (hashes) that determine where data is stored in memory."
   ]
  },
  {
   "cell_type": "code",
   "execution_count": null,
   "id": "cb92934a-6ff3-43cd-8bf3-531a5b1d204c",
   "metadata": {},
   "outputs": [],
   "source": [
    "# 9. Can lists contain different data types in Python.\n",
    "# ANS Yes, list can contain different types data types like string,int,bollean etc\n",
    "   \n"
   ]
  },
  {
   "cell_type": "code",
   "execution_count": null,
   "id": "7afd4b22-5b79-4819-8efb-a5471c6aa6f2",
   "metadata": {},
   "outputs": [],
   "source": [
    "# 10.Explain why strings are immutable in Python.\n",
    "# ANS \n",
    "#    Strings are immutable, once created can't be modify \n",
    "#    1.Memory Efficiency \n",
    "#    2.Security & Hashing\n",
    "#    3.Avoiding Unintended Modifications\n",
    "#    4.Thread Safety"
   ]
  },
  {
   "cell_type": "code",
   "execution_count": null,
   "id": "2e5349ad-c655-4919-96df-f4d2b1fd70da",
   "metadata": {},
   "outputs": [],
   "source": [
    "# 11. What advantages do dictionaries offer over lists for certain tasks\n",
    "# ANS\n",
    "#    1.Fast lookup\n",
    "#    2.Key-Value Pairing \n",
    "#    3.Uniqueness of Keys\n",
    "#    4.Efficient Membership Testing\n",
    "#    5.Better Organization of Complex Data\n",
    "#    6.Insertion and Deletion Efficiency  "
   ]
  },
  {
   "cell_type": "code",
   "execution_count": null,
   "id": "b7e84f13-baaf-43e1-ac27-b02fbb014f0e",
   "metadata": {},
   "outputs": [],
   "source": [
    "# 12. Describe a scenario where using a tuple would be preferable over a list\n",
    "# ANS\n",
    "#     Storing Fixed GPS Coordinates (Latitude, Longitude),Since the latitude and longitude of a place never change, using a tuple instead of a\n",
    "#     list makes sense."
   ]
  },
  {
   "cell_type": "code",
   "execution_count": null,
   "id": "e67c0bbf-b4d0-4bcd-94f2-ef053adbdfe7",
   "metadata": {},
   "outputs": [],
   "source": [
    "13.How do sets handle duplicate values in Python.\n",
    "ANS \n",
    "   Sets automatically eliminate duplicate values because they are unordered collections of unique elements. When you add duplicate values to a set\n",
    "   Python ignores them rather than storing multiple copies."
   ]
  },
  {
   "cell_type": "code",
   "execution_count": null,
   "id": "a10dcc0a-7710-49bf-a8d1-b3509aa27ff2",
   "metadata": {},
   "outputs": [],
   "source": [
    "14.How does the “in” keyword work differently for lists and dictionaries.\n",
    "ANS\n",
    "   1.\"in\" with Lists (Linear Search)\n",
    "     Checks if a value exists in the list.\n",
    "     Uses a linear search (O(n) time complexity) since lists are ordered and require scanning each element.\n",
    "     Slow performance  for large lists as it scans each element one by one\n",
    "\n",
    "   2.\"in\" with DIC (Hash-Based Lookup)\n",
    "     Checks for the existence of a key, NOT a value.\n",
    "     Uses a hash table (O(1) average time complexity) for quick lookups.\n",
    "     Fast performance for large dic due to hash based search "
   ]
  },
  {
   "cell_type": "code",
   "execution_count": null,
   "id": "d7e71c80-a247-4167-bf1c-d400b2708d22",
   "metadata": {},
   "outputs": [],
   "source": [
    "# 15. Can you modify the elements of a tuple? Explain why or why not\n",
    "# ANS \n",
    "#    No, you cannot modify the elements of a tuple in Python because tuples are immutable.\n",
    "\n",
    "#    tuple can be modify by converting into list"
   ]
  },
  {
   "cell_type": "code",
   "execution_count": null,
   "id": "17cc8b58-ca98-4f98-b4fc-07dee0dc311d",
   "metadata": {},
   "outputs": [],
   "source": [
    "# 16. What is a nested dictionary, and give an example of its use case.\n",
    "# ANS \n",
    "#    A nested dictionary is a dictionary that contains another dictionary as a value. This allows storing structured data in a hierarchical way.\n",
    "#    Example- Student records\n",
    "   \n",
    "    students = {\n",
    "    \"101\": {\n",
    "        \"name\": \"Alice\",\n",
    "        \"age\": 20,\n",
    "        \"grades\": {\n",
    "            \"math\": 85,\n",
    "            \"science\": 90\n",
    "        }\n",
    "    },\n",
    "    \"102\": {\n",
    "        \"name\": \"Bob\",\n",
    "        \"age\": 22,\n",
    "        \"grades\": {\n",
    "            \"math\": 78,\n",
    "            \"science\": 88\n",
    "        }\n",
    "    }\n",
    "}\n",
    "         print(students[\"101\"][\"name\"])\n",
    "\n",
    "\n"
   ]
  },
  {
   "cell_type": "raw",
   "id": "94f71b6b-8930-4f77-83f6-8d45cc940f19",
   "metadata": {},
   "source": [
    "17.  Describe the time complexity of accessing elements in a dictionary\n",
    "ANS Dictionaries use a hash table internally, making element access extremely efficient.\n",
    "\n",
    "  Average Case (Best Case) – O(1)\n",
    "     When accessing a value using a key (dict[key]), Python computes the hash of the key and directly retrieves the value.\n",
    "     Hash table lookups are O(1) on average, meaning they take constant time, regardless of the dictionary’s size."
   ]
  },
  {
   "cell_type": "raw",
   "id": "c24648a5-1f29-49c1-a5cb-337a05d7cde1",
   "metadata": {},
   "source": [
    "18.In what situations are lists preferred over dictionaries.\n",
    "ANS\n",
    "   1. Ordered Data is Required\n",
    "   2. Storing Homogeneous Data\n",
    "   3. When Sequential Access is Needed\n",
    "   4. When Memory Efficiency is Important\n",
    "   5. When Index-Based Access is Needed"
   ]
  },
  {
   "cell_type": "raw",
   "id": "9683bb4a-8d33-4cba-86a3-173678d6e3a5",
   "metadata": {},
   "source": [
    "19. Why are dictionaries considered unordered, and how does that affect data retrieval.\n",
    "ANS\n",
    "   Dictionaries in Python were historically considered unordered because they were implemented using hash tables, where elements are stored based\n",
    "   on their hash values rather than a fixed sequence."
   ]
  },
  {
   "cell_type": "raw",
   "id": "9aec12d6-2eb5-42db-a168-41d79630483e",
   "metadata": {},
   "source": [
    "20. Lists and dictionaries handle data retrieval differently because of their underlying data structures.\n",
    "ANS\n",
    "  List\n",
    "    Data Storage - Stores elements sequentially (indexed by position)\n",
    "    Access Method -\tUses index-based retrieval (O(1))\n",
    "    Search Time\tO(n)- (Linear search for unknown elements)\n",
    "    Order -\tMaintains insertion order\n",
    "    Best For -\tSequential, ordered data\n",
    "\n",
    "   Dictionary\n",
    "    Data Storage - Stores key-value pairs (indexed by keys)\n",
    "    Access Method -\tUses key-based retrieval (O(1) average)\n",
    "    Search Time\tO(n)- O(1) (Direct key lookup)\n",
    "    Order -\tMaintains insertion order \n",
    "    Best For - Fast lookups, structured data"
   ]
  },
  {
   "cell_type": "markdown",
   "id": "500dcfaf-bce9-4207-ba23-f4d4c24db001",
   "metadata": {},
   "source": [
    "# Practical Question"
   ]
  },
  {
   "cell_type": "code",
   "execution_count": 17,
   "id": "a142955c-f719-425f-be24-c751b44cf64d",
   "metadata": {},
   "outputs": [
    {
     "name": "stdout",
     "output_type": "stream",
     "text": [
      "Prakash Parihar\n"
     ]
    }
   ],
   "source": [
    "# 1.Write a code to create a string with your name and print it.\n",
    "# Sol-\n",
    "name = \"Prakash Parihar\"\n",
    "print(name)"
   ]
  },
  {
   "cell_type": "code",
   "execution_count": 19,
   "id": "7fe8aac6-bc9b-44a2-ab7a-fa07b1ea614f",
   "metadata": {},
   "outputs": [
    {
     "name": "stdout",
     "output_type": "stream",
     "text": [
      "11\n"
     ]
    }
   ],
   "source": [
    "#2. Write a code to find the length of the string \"Hello World\".\n",
    "# Sol-\n",
    "a=\"Hello world\"\n",
    "print(len(a))\n"
   ]
  },
  {
   "cell_type": "code",
   "execution_count": 23,
   "id": "bafa0c4c-7ff0-4791-aa5f-133c28e252ca",
   "metadata": {},
   "outputs": [
    {
     "name": "stdout",
     "output_type": "stream",
     "text": [
      "Pyth\n"
     ]
    }
   ],
   "source": [
    "# 3.Write a code to slice the first 3 characters from the string \"Python Programming\".\n",
    "# Sol-\n",
    "b=\"Python Programming\"\n",
    "print(b[0:4])"
   ]
  },
  {
   "cell_type": "code",
   "execution_count": 25,
   "id": "53095125-46f6-4288-b579-c6daf76073aa",
   "metadata": {},
   "outputs": [
    {
     "name": "stdout",
     "output_type": "stream",
     "text": [
      "HELLO\n"
     ]
    }
   ],
   "source": [
    "# 4. Write a code to convert the string \"hello\" to uppercaseP\n",
    "# SOL-\n",
    "c=\"hello\"\n",
    "print(c.upper())  "
   ]
  },
  {
   "cell_type": "code",
   "execution_count": 26,
   "id": "cce741be-93d1-42d2-9a28-5b3e63eed121",
   "metadata": {},
   "outputs": [
    {
     "name": "stdout",
     "output_type": "stream",
     "text": [
      "I like orange\n"
     ]
    }
   ],
   "source": [
    "# 5. Write a code to replace the word \"apple\" with \"orange\" in the string \"I like apple\"P\n",
    "# Sol-\n",
    "a = \"I like apple\"\n",
    "print(a.replace(\"apple\", \"orange\"))\n"
   ]
  },
  {
   "cell_type": "code",
   "execution_count": 28,
   "id": "20274b4a-2a10-4eac-a7e1-e55040b6ffbf",
   "metadata": {},
   "outputs": [
    {
     "name": "stdout",
     "output_type": "stream",
     "text": [
      "[1, 2, 3, 4, 5]\n"
     ]
    }
   ],
   "source": [
    "# 6.Write a code to create a list with numbers 1 to 5 and print it\n",
    "# Sol-\n",
    "print(list(range(1,6)))"
   ]
  },
  {
   "cell_type": "code",
   "execution_count": 38,
   "id": "fcbe7c2c-b176-419b-aa01-d490223dd235",
   "metadata": {},
   "outputs": [
    {
     "name": "stdout",
     "output_type": "stream",
     "text": [
      "[1, 2, 3, 4, 10]\n"
     ]
    }
   ],
   "source": [
    "# 7.Write a code to append the number 10 to the list [1, 2, 3, 4]P\n",
    "# Sol-\n",
    "list = [1, 2, 3, 4]\n",
    "list.append(10)\n",
    "print(list)"
   ]
  },
  {
   "cell_type": "code",
   "execution_count": 48,
   "id": "72492fb9-9a2f-4956-9f7b-82f911778954",
   "metadata": {},
   "outputs": [
    {
     "name": "stdout",
     "output_type": "stream",
     "text": [
      "removed word = 3\n",
      "[1, 2, 4, 5]\n"
     ]
    }
   ],
   "source": [
    "# # 8.Write a code to remove the number 3 from the list [1, 2, 3, 4, 5]P\n",
    "# ANS\n",
    "a=[1, 2, 3, 4, 5]\n",
    "print(f\"removed word = {a.pop(2)}\")\n",
    "print(a)"
   ]
  },
  {
   "cell_type": "code",
   "execution_count": 50,
   "id": "2483c25b-ca54-4fff-a917-9c5471726fd0",
   "metadata": {},
   "outputs": [
    {
     "name": "stdout",
     "output_type": "stream",
     "text": [
      "b\n"
     ]
    }
   ],
   "source": [
    "# 9.Write a cde to access the second element in the list ['a', 'b', 'c', 'd']\n",
    "# ANS\n",
    "a=['a', 'b', 'c', 'd']\n",
    "print(a[1])"
   ]
  },
  {
   "cell_type": "code",
   "execution_count": 54,
   "id": "2da727e3-9df8-481c-adf1-464453242e42",
   "metadata": {},
   "outputs": [
    {
     "name": "stdout",
     "output_type": "stream",
     "text": [
      "[50, 40, 30, 20, 10]\n"
     ]
    }
   ],
   "source": [
    "# 10.Write a code to reverse the list [10, 20, 30, 40, 50].\n",
    "# Sol-\n",
    "a=[10, 20, 30, 40, 50]\n",
    "print(a[::-1])"
   ]
  },
  {
   "cell_type": "code",
   "execution_count": 57,
   "id": "52fb40a2-c9a0-4eeb-b2db-92d10738037a",
   "metadata": {},
   "outputs": [
    {
     "name": "stdout",
     "output_type": "stream",
     "text": [
      "(100, 200, 300)\n"
     ]
    }
   ],
   "source": [
    "# 11.  Write a code to create a tuple with the elements 100, 200, 300 and print it.\n",
    "# Solu-\n",
    "a=(100,200,300)\n",
    "print(a)"
   ]
  },
  {
   "cell_type": "code",
   "execution_count": 58,
   "id": "353df081-38eb-442e-8ef0-316f5b7413ff",
   "metadata": {},
   "outputs": [
    {
     "name": "stdout",
     "output_type": "stream",
     "text": [
      "blue\n"
     ]
    }
   ],
   "source": [
    "# 12. Write a code to access the second-to-last element of the tuple ('red', 'green', 'blue', 'yellow').\n",
    "# Sol\n",
    "a=('red', 'green', 'blue', 'yellow')\n",
    "print(a[-2])"
   ]
  },
  {
   "cell_type": "code",
   "execution_count": 62,
   "id": "94d9b3bd-32a7-4c00-9a30-21ac1b135ca0",
   "metadata": {},
   "outputs": [
    {
     "name": "stdout",
     "output_type": "stream",
     "text": [
      "Minimum number from tuble = 5\n"
     ]
    }
   ],
   "source": [
    "# 13.Write a code to find the minimum number in the tuple (10, 20, 5, 15).\n",
    "# sol\n",
    "a=(10, 20, 5, 15)\n",
    "print(f\"Minimum number from tuble = {min(a)}\")"
   ]
  },
  {
   "cell_type": "code",
   "execution_count": 65,
   "id": "294bfa67-f107-4957-8b7b-07dc65385ab4",
   "metadata": {},
   "outputs": [
    {
     "name": "stdout",
     "output_type": "stream",
     "text": [
      "1\n"
     ]
    }
   ],
   "source": [
    "# 14. Write a code to find the index of the element \"cat\" in the tuple ('dog', 'cat', 'rabbit')\n",
    "# sola=\n",
    "a= ('dog', 'cat', 'rabbit')\n",
    "print(a.index(\"cat\"))"
   ]
  },
  {
   "cell_type": "code",
   "execution_count": 69,
   "id": "71c402fb-881b-4c76-b881-63bf6acfabb3",
   "metadata": {},
   "outputs": [
    {
     "name": "stdout",
     "output_type": "stream",
     "text": [
      "Yes,kiwi in fruits\n"
     ]
    }
   ],
   "source": [
    "# 15.Write a code to create a tuple containing three different fruits and check if \"kiwi\" is in it\n",
    "# sol-\n",
    "a=(\"apple\",\"orange\",\"kiwi\")\n",
    "\n",
    "if \"kiwi\" in a:\n",
    " print(\"Yes,kiwi in fruits\")\n",
    "else:\n",
    " print(\"No,kiwi in fruits\")"
   ]
  },
  {
   "cell_type": "code",
   "execution_count": 73,
   "id": "c55ef155-272e-4ce3-8f6d-a99bdd383fde",
   "metadata": {},
   "outputs": [
    {
     "name": "stdout",
     "output_type": "stream",
     "text": [
      "{'c', 'a', 'b'}\n"
     ]
    }
   ],
   "source": [
    "# 16.  Write a code to create a set with the elements 'a', 'b', 'c' and print it.\n",
    "# sol- \n",
    "a= {'a', 'b', 'c'} \n",
    "print(a)\n",
    "\n",
    "    "
   ]
  },
  {
   "cell_type": "code",
   "execution_count": 76,
   "id": "62f70efa-3581-4582-95b2-92c55bc9a9b5",
   "metadata": {},
   "outputs": [
    {
     "name": "stdout",
     "output_type": "stream",
     "text": [
      "None\n"
     ]
    }
   ],
   "source": [
    "# 17.Write a code to clear all elements from the set {1, 2, 3, 4, 5}\n",
    "# sol-\n",
    "a={1, 2, 3, 4, 5}\n",
    "print(a.clear())"
   ]
  },
  {
   "cell_type": "code",
   "execution_count": 82,
   "id": "e21ccede-c62c-4f26-929a-c6aac2e4f19b",
   "metadata": {},
   "outputs": [
    {
     "name": "stdout",
     "output_type": "stream",
     "text": [
      "{1, 2, 3}\n"
     ]
    }
   ],
   "source": [
    "# 18.Write a code to remove the element 4 from the set {1, 2, 3, 4}.\n",
    "# sol-\n",
    "a={1, 2, 3, 4}\n",
    "a.remove(4)\n",
    "print(a)"
   ]
  },
  {
   "cell_type": "code",
   "execution_count": 1,
   "id": "be716f32-8846-4f15-aafb-ec9c5065c7cb",
   "metadata": {},
   "outputs": [
    {
     "name": "stdout",
     "output_type": "stream",
     "text": [
      "{1, 2, 3, 4, 5}\n"
     ]
    }
   ],
   "source": [
    "# 19. Write a code to find the union of two sets {1, 2, 3} and {3, 4, 5}\n",
    "# Sol\n",
    "a={1,2,3,} \n",
    "b={3,4,5,}\n",
    "print(a.union(b))"
   ]
  },
  {
   "cell_type": "code",
   "execution_count": 2,
   "id": "ce2d5433-7e8b-417a-8bb6-c25c2fe74d22",
   "metadata": {},
   "outputs": [
    {
     "name": "stdout",
     "output_type": "stream",
     "text": [
      "{2, 3}\n"
     ]
    }
   ],
   "source": [
    "# 20 Write a code to find the intersection of two sets {1, 2, 3} and {2, 3, 4}\n",
    "# sol\n",
    "a={1,2,3,} \n",
    "b={2,3,4,}\n",
    "print(a.intersection(b))"
   ]
  },
  {
   "cell_type": "code",
   "execution_count": 3,
   "id": "75b716fd-eb35-4e02-aea1-ccfba158a5e0",
   "metadata": {},
   "outputs": [
    {
     "name": "stdout",
     "output_type": "stream",
     "text": [
      "{'name': 'Prakash', 'age': '30', 'City': 'Gurugram'}\n"
     ]
    }
   ],
   "source": [
    "# 21Write a code to create a dictionary with the keys \"name\", \"age\", and \"city\", and print it.\n",
    "# Sol\n",
    "dic={\"name\":\"Prakash\",\"age\":\"30\",\"City\":\"Gurugram\"}\n",
    "\n",
    "print(dic)"
   ]
  },
  {
   "cell_type": "code",
   "execution_count": 10,
   "id": "7f2d8478-92cf-49e1-ba4f-c6c201f5cfbe",
   "metadata": {},
   "outputs": [
    {
     "name": "stdout",
     "output_type": "stream",
     "text": [
      "Old Dictionary:{'name': 'John', 'age': 25}\n",
      "Updated Dictionary:{'name': 'John', 'age': 25, 'country': 'USA'}\n"
     ]
    }
   ],
   "source": [
    "#22 Write a code to add a new key-value pair \"country\": \"USA\" to the dictionary {'name': 'John', 'age': 25}.\n",
    "# sol\n",
    "a={'name': 'John', 'age': 25}\n",
    "print(f\"Old Dictionary:{a}\")\n",
    "a[\"country\"]=\"USA\"\n",
    "print(f\"Updated Dictionary:{ a}\")"
   ]
  },
  {
   "cell_type": "code",
   "execution_count": 12,
   "id": "5fa46f11-0cc8-4029-a51d-f499786d792c",
   "metadata": {},
   "outputs": [
    {
     "name": "stdout",
     "output_type": "stream",
     "text": [
      "Alice\n"
     ]
    }
   ],
   "source": [
    "# 23 Write a code to access the value associated with the key \"name\" in the dictionary {'name': 'Alice', 'age': 30}.\n",
    "# Sol\n",
    "a={'name': 'Alice', 'age': 30}\n",
    "\n",
    "print(a[\"name\"])"
   ]
  },
  {
   "cell_type": "code",
   "execution_count": 20,
   "id": "e471d9a5-b251-49a6-888a-10ce185ea4d7",
   "metadata": {},
   "outputs": [
    {
     "name": "stdout",
     "output_type": "stream",
     "text": [
      "Before age detele dictionary: {'name': 'Bob', 'age': 22, 'city': 'New York'}\n",
      "After age detele dictionary: {'name': 'Bob', 'city': 'New York'}\n"
     ]
    }
   ],
   "source": [
    "# 24 Write a code to remove the key \"age\" from the dictionary {'name': 'Bob', 'age': 22, 'city': 'New York'}.\n",
    "# Sol\n",
    "a={'name': 'Bob', 'age': 22, 'city': 'New York'}\n",
    "print(f\"Before age detele dictionary: {a}\")\n",
    "a.pop(\"age\")\n",
    "print(f\"After age detele dictionary: {a}\")\n"
   ]
  },
  {
   "cell_type": "code",
   "execution_count": 24,
   "id": "a441d439-b03b-4a23-9f69-e28a5ff87f4c",
   "metadata": {},
   "outputs": [
    {
     "name": "stdout",
     "output_type": "stream",
     "text": [
      "City Present In DIC\n"
     ]
    }
   ],
   "source": [
    "# 25  Write a code to check if the key \"city\" exists in the dictionary {'name': 'Alice', 'city': 'Pari}\n",
    "# sol\n",
    "a={'name': 'Alice', 'city': 'Pari'}\n",
    "if \"city\" in a:\n",
    "   print(\"City Present In DIC\")\n",
    "else:\n",
    "   print(\"City NOT Present In DIC\")\n"
   ]
  },
  {
   "cell_type": "code",
   "execution_count": 39,
   "id": "a4c7167f-98ef-4a91-9692-0abd0d12b91c",
   "metadata": {},
   "outputs": [
    {
     "name": "stdout",
     "output_type": "stream",
     "text": [
      "List: [1, 2, 3, 4, 5]\n",
      "Tuple: (10, 20, 30, 40, 50)\n",
      "Dictionary: {'name': 'Prakash', 'gender': 'Male', 'city': 'Gurugram'}\n"
     ]
    }
   ],
   "source": [
    "# 26 Write a code to create a list, a tuple, and a dictionary, and print them all.\n",
    "# SOl\n",
    "\n",
    "a = [1, 2, 3, 4, 5]\n",
    "\n",
    "\n",
    "b = (10, 20, 30, 40, 50)\n",
    "\n",
    "\n",
    "c = {'name': 'Prakash', 'gender': \"Male\", 'city': 'Gurugram'}\n",
    "\n",
    "# Print them all\n",
    "print(\"List:\", a)\n",
    "print(\"Tuple:\", b)\n",
    "print(\"Dictionary:\", c)\n"
   ]
  },
  {
   "cell_type": "code",
   "execution_count": 40,
   "id": "1919bc80-a7bb-429b-8cbe-4dc77dc546f1",
   "metadata": {},
   "outputs": [
    {
     "name": "stdout",
     "output_type": "stream",
     "text": [
      "Sorted Random Numbers: [14, 43, 61, 71, 99]\n"
     ]
    }
   ],
   "source": [
    "# 27. Write a code to create a list of 5 random numbers between 1 and 100, sort it in ascending order, and print the\n",
    "# result.(replaced)\n",
    "# SOl\n",
    "import random\n",
    "\n",
    "\n",
    "b = random.sample(range(1, 101), 5)\n",
    "b.sort()\n",
    "print(\"Sorted Random Numbers:\", b)"
   ]
  },
  {
   "cell_type": "code",
   "execution_count": 41,
   "id": "16451d68-bdf8-4d45-aac1-74d1f56a17ed",
   "metadata": {},
   "outputs": [
    {
     "name": "stdout",
     "output_type": "stream",
     "text": [
      "thire index element:India\n"
     ]
    }
   ],
   "source": [
    "\n",
    "# 28.Write a code to create a list with strings and print the element at the third index.\n",
    "# SOl\n",
    "a=[\"prakash\",\"parihar\",\"jodhpur\",\"India\",\"Earht\"]\n",
    "print(f\"thire index element:{a[3]}\")"
   ]
  },
  {
   "cell_type": "code",
   "execution_count": 50,
   "id": "859e2b3b-f138-465a-b096-388ec2da949c",
   "metadata": {},
   "outputs": [
    {
     "name": "stdout",
     "output_type": "stream",
     "text": [
      "combine of two string a and b :{'name': 'Prakash', 'gender': 'Male', 'city': 'Gurugram', 'nationality': 'Indian', 'mobile': 45667788} \n"
     ]
    }
   ],
   "source": [
    "# 29.  Write a code to combine two dictionaries into one and print the result.\n",
    "# SOl\n",
    "a = {'name': 'Prakash', 'gender': \"Male\", 'city': 'Gurugram'}\n",
    "b = {'nationality': 'Indian', 'mobile': 45667788}\n",
    "c={**a,**b}\n",
    "print(f\"combine of two string a and b :{c} \")\n",
    "    "
   ]
  },
  {
   "cell_type": "code",
   "execution_count": 51,
   "id": "851b5777-4492-4ce3-b005-2f15c2c1b8ee",
   "metadata": {},
   "outputs": [
    {
     "name": "stdout",
     "output_type": "stream",
     "text": [
      "Set: {'apple', 'cherry', 'banana'}\n"
     ]
    }
   ],
   "source": [
    "# # 30 Write a code to convert a list of strings into a set\n",
    "# Sol\n",
    "\n",
    "my_list = [\"apple\", \"banana\", \"cherry\", \"apple\", \"banana\"]\n",
    "my_set = set(my_list)\n",
    "print(\"Set:\", my_set)\n"
   ]
  },
  {
   "cell_type": "code",
   "execution_count": null,
   "id": "f1939b3e-9814-47dc-b706-0f7012bffa03",
   "metadata": {},
   "outputs": [],
   "source": []
  },
  {
   "cell_type": "code",
   "execution_count": null,
   "id": "f65e0e22-7a11-4f58-b4e3-d5ce0e0c075d",
   "metadata": {},
   "outputs": [],
   "source": []
  },
  {
   "cell_type": "code",
   "execution_count": null,
   "id": "ee81560a-3b9a-480e-8723-bf9952673148",
   "metadata": {},
   "outputs": [],
   "source": []
  },
  {
   "cell_type": "code",
   "execution_count": null,
   "id": "590dcee4-a222-40f3-8690-e07d2db4f95e",
   "metadata": {},
   "outputs": [],
   "source": []
  },
  {
   "cell_type": "code",
   "execution_count": null,
   "id": "201a53d2-0c3c-461a-9729-aeff6fac2316",
   "metadata": {},
   "outputs": [],
   "source": []
  }
 ],
 "metadata": {
  "kernelspec": {
   "display_name": "Python 3 (ipykernel)",
   "language": "python",
   "name": "python3"
  },
  "language_info": {
   "codemirror_mode": {
    "name": "ipython",
    "version": 3
   },
   "file_extension": ".py",
   "mimetype": "text/x-python",
   "name": "python",
   "nbconvert_exporter": "python",
   "pygments_lexer": "ipython3",
   "version": "3.12.4"
  }
 },
 "nbformat": 4,
 "nbformat_minor": 5
}
